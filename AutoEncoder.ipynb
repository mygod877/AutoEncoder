{
 "cells": [
  {
   "cell_type": "code",
   "execution_count": 1,
   "metadata": {},
   "outputs": [],
   "source": [
    "%matplotlib inline\n",
    "from tensorflow.examples.tutorials.mnist import input_data\n",
    "import tensorflow as tf\n",
    "import numpy as np\n",
    "import shutil\n",
    "import sys\n",
    "import matplotlib.pyplot as plt\n",
    "import warnings\n",
    "old_v = tf.logging.get_verbosity()\n",
    "tf.logging.set_verbosity(tf.logging.ERROR)\n",
    "shutil.rmtree(\"../logs/AutoEncoder\")"
   ]
  },
  {
   "cell_type": "markdown",
   "metadata": {},
   "source": [
    "# ハイパーパラメータ"
   ]
  },
  {
   "cell_type": "code",
   "execution_count": 2,
   "metadata": {},
   "outputs": [],
   "source": [
    "# 入力次元\n",
    "X_n = 784\n",
    "# Encoder入力\n",
    "enc_n = [500, 300]\n",
    "enc_layer_n = len(enc_n)\n",
    "# Decoder入力\n",
    "dec_n = [300, 500]\n",
    "dec_layer_n = len(dec_n)\n",
    "# 潜在変数Zの次元\n",
    "Z_n = 20\n",
    "# 学習回数\n",
    "epoch_n = 10\n",
    "# バッチサイズ\n",
    "batch_size = 100"
   ]
  },
  {
   "cell_type": "markdown",
   "metadata": {},
   "source": [
    "# 入力データ"
   ]
  },
  {
   "cell_type": "code",
   "execution_count": 3,
   "metadata": {},
   "outputs": [
    {
     "name": "stdout",
     "output_type": "stream",
     "text": [
      "Extracting ../MNIST_data\\train-images-idx3-ubyte.gz\n",
      "Extracting ../MNIST_data\\train-labels-idx1-ubyte.gz\n",
      "Extracting ../MNIST_data\\t10k-images-idx3-ubyte.gz\n",
      "Extracting ../MNIST_data\\t10k-labels-idx1-ubyte.gz\n"
     ]
    }
   ],
   "source": [
    "mnist = input_data.read_data_sets(\"../MNIST_data\", one_hot=True)\n",
    "train_X = mnist.train.images\n",
    "validation_X = mnist.validation.images\n",
    "test_X = mnist.test.images"
   ]
  },
  {
   "cell_type": "markdown",
   "metadata": {},
   "source": [
    "# モデルアーキテクチャ"
   ]
  },
  {
   "cell_type": "code",
   "execution_count": 4,
   "metadata": {},
   "outputs": [],
   "source": [
    "# X\n",
    "with tf.name_scope(\"X\"):\n",
    "    X = tf.placeholder(tf.float32, [None, X_n])\n",
    "\n",
    "# Encoder\n",
    "with tf.name_scope(\"Encoder\"):\n",
    "    enc_w = []\n",
    "    enc_b = []\n",
    "    enc_h = []\n",
    "    for i, n in enumerate(enc_n):\n",
    "        input_shape = [X_n if i == 0 else enc_n[i - 1], enc_n[i]]\n",
    "        with tf.name_scope(\"Layer%02d\" % (i + 1)):\n",
    "            enc_w.append(tf.Variable(tf.truncated_normal(input_shape, stddev=0.1)))\n",
    "            enc_b.append(tf.Variable(tf.truncated_normal([enc_n[i]], stddev=0.1)))\n",
    "            enc_h.append(tf.nn.relu(tf.matmul(X if i == 0 else enc_h[i - 1], enc_w[i]) + enc_b[i]))\n",
    "\n",
    "# Z\n",
    "with tf.name_scope(\"Z\"):\n",
    "    Z_w = tf.Variable(tf.truncated_normal([enc_n[enc_layer_n - 1], Z_n], stddev=0.1))\n",
    "    Z_b = tf.Variable(tf.truncated_normal([Z_n], stddev=0.1))\n",
    "    Z = tf.nn.relu(tf.matmul(enc_h[enc_layer_n - 1], Z_w) + Z_b)\n",
    "\n",
    "# Decoder\n",
    "with tf.name_scope(\"Decoder\"):\n",
    "    dec_w = []\n",
    "    dec_b = []\n",
    "    dec_h = []\n",
    "    for i, n in enumerate(dec_n):\n",
    "        input_shape = [Z_n if i == 0 else dec_n[i - 1], dec_n[i]]\n",
    "        with tf.name_scope(\"Layer%02d\" % (i + 1)):\n",
    "            dec_w.append(tf.Variable(tf.truncated_normal(input_shape, stddev=0.1)))\n",
    "            dec_b.append(tf.Variable(tf.truncated_normal([dec_n[i]], stddev=0.1)))\n",
    "            dec_h.append(tf.nn.relu(tf.matmul(Z if i == 0 else dec_h[i - 1], dec_w[i]) + dec_b[i]))\n",
    "\n",
    "# G\n",
    "with tf.name_scope(\"G\"):\n",
    "    G_w = tf.Variable(tf.truncated_normal([dec_n[dec_layer_n - 1], X_n], stddev=0.1))\n",
    "    G_b = tf.Variable(tf.truncated_normal([X_n], stddev=0.1))\n",
    "    G = tf.sigmoid(tf.matmul(dec_h[dec_layer_n - 1], G_w) + G_b)\n",
    "\n",
    "# loss\n",
    "with tf.name_scope(\"loss\"):\n",
    "    loss = tf.nn.l2_loss(G - X)\n",
    "\n",
    "# Optimizer\n",
    "opt = tf.train.AdamOptimizer().minimize(loss)"
   ]
  },
  {
   "cell_type": "markdown",
   "metadata": {},
   "source": [
    "# セッション開始"
   ]
  },
  {
   "cell_type": "code",
   "execution_count": 5,
   "metadata": {},
   "outputs": [],
   "source": [
    "sess = tf.Session()\n",
    "sess.run(tf.initialize_all_variables())\n",
    "writer = tf.summary.FileWriter('../logs/AutoEncoder', sess.graph)"
   ]
  },
  {
   "cell_type": "markdown",
   "metadata": {},
   "source": [
    "# トレーニング"
   ]
  },
  {
   "cell_type": "code",
   "execution_count": 6,
   "metadata": {},
   "outputs": [
    {
     "name": "stdout",
     "output_type": "stream",
     "text": [
      "epoch: 10, loss: 410.455"
     ]
    }
   ],
   "source": [
    "iteration_n = len(train_X) // batch_size\n",
    "for epoch in range(epoch_n):\n",
    "    sff_X = np.random.permutation(train_X)\n",
    "    for iteration in range(iteration_n - 1):\n",
    "        batch = sff_X[batch_size * iteration:batch_size * (iteration + 1)]\n",
    "        sess.run(opt, feed_dict={X: batch})\n",
    "    train_loss = sess.run(loss, feed_dict={X: batch})\n",
    "    sys.stdout.write(\"\\repoch: %d, loss: %.3f\" % (epoch + 1, train_loss))\n",
    "    sys.stdout.flush()"
   ]
  },
  {
   "cell_type": "markdown",
   "metadata": {},
   "source": [
    "# 性能評価"
   ]
  },
  {
   "cell_type": "code",
   "execution_count": 7,
   "metadata": {},
   "outputs": [
    {
     "name": "stdout",
     "output_type": "stream",
     "text": [
      "422.2974609375\n"
     ]
    }
   ],
   "source": [
    "score = sess.run(loss, feed_dict={X: test_X}) / batch_size\n",
    "print(score)"
   ]
  },
  {
   "cell_type": "code",
   "execution_count": 8,
   "metadata": {},
   "outputs": [
    {
     "data": {
      "text/plain": [
       "<matplotlib.image.AxesImage at 0x1646c3ebf60>"
      ]
     },
     "execution_count": 8,
     "metadata": {},
     "output_type": "execute_result"
    },
    {
     "data": {
      "image/png": "[encoded data removed]",
      "text/plain": [
       "<Figure size 432x288 with 2 Axes>"
      ]
     },
     "metadata": {
      "needs_background": "light"
     },
     "output_type": "display_data"
    }
   ],
   "source": [
    "generate_images = sess.run(G, feed_dict={X: test_X})\n",
    "plt.figure()\n",
    "plt.subplot(1, 2, 1)\n",
    "plt.title(\"X\")\n",
    "plt.imshow(test_X[0].reshape(28, 28))\n",
    "plt.subplot(1, 2, 2)\n",
    "plt.title(\"G\")\n",
    "plt.imshow(generate_images[0].reshape(28, 28))"
   ]
  },
  {
   "cell_type": "code",
   "execution_count": null,
   "metadata": {},
   "outputs": [],
   "source": []
  }
 ],
 "metadata": {
  "kernelspec": {
   "display_name": "Python 3",
   "language": "python",
   "name": "python3"
  },
  "language_info": {
   "codemirror_mode": {
    "name": "ipython",
    "version": 3
   },
   "file_extension": ".py",
   "mimetype": "text/x-python",
   "name": "python",
   "nbconvert_exporter": "python",
   "pygments_lexer": "ipython3",
   "version": "3.6.8"
  }
 },
 "nbformat": 4,
 "nbformat_minor": 2
}
